{
 "cells": [
  {
   "cell_type": "markdown",
   "metadata": {},
   "source": [
    "### Bayesian network construction"
   ]
  },
  {
   "cell_type": "code",
   "execution_count": 24,
   "metadata": {},
   "outputs": [],
   "source": [
    "import pandas as pd\n",
    "import numpy as np\n",
    "from PrivBayes import greedy_bayes\n",
    "from utils import preprocessing, encoding, get_school_list, decoding, display_bayesian_network\n",
    "import plotly.express as px"
   ]
  },
  {
   "cell_type": "code",
   "execution_count": 25,
   "metadata": {},
   "outputs": [],
   "source": [
    "# Display the dataframe\n",
    "pd.set_option('display.max_columns', None)  # or 1000\n",
    "# pd.set_option('display.max_rows', None)  # or 1000\n",
    "pd.set_option('display.max_colwidth', None)  # or 199"
   ]
  },
  {
   "cell_type": "code",
   "execution_count": 4,
   "metadata": {},
   "outputs": [],
   "source": [
    "choices_df = pd.read_excel('data/2021.xlsx', sheet_name='Resultaten')\n",
    "schools_df = pd.read_excel('data/2021.xlsx', sheet_name='Klassen')\n",
    "schools = get_school_list(schools_df)\n",
    "choices_df = preprocessing(choices_df)\n",
    "encoded_choices_df = encoding(choices_df, schools)\n",
    "edu_types = encoded_choices_df['Basisschool advies'].unique().tolist()\n",
    "choice_cols = [c for c in list(encoded_choices_df.columns) if 'Voorkeur' in c]"
   ]
  },
  {
   "cell_type": "code",
   "execution_count": 35,
   "metadata": {},
   "outputs": [
    {
     "name": "stdout",
     "output_type": "stream",
     "text": [
      "havo :\n",
      "Constructed Bayesian network:\n",
      "    Voorkeur 3 has parents ['Voorkeur 4'].\n",
      "    Voorkeur 5 has parents ['Voorkeur 3', 'Voorkeur 4'].\n",
      "    Voorkeur 2 has parents ['Voorkeur 3', 'Voorkeur 5', 'Voorkeur 4'].\n",
      "    Voorkeur 1 has parents ['Voorkeur 5', 'Voorkeur 2', 'Voorkeur 4'].\n",
      "havo/vwo :\n",
      "Constructed Bayesian network:\n",
      "    Voorkeur 3 has parents ['Voorkeur 4'].\n",
      "    Voorkeur 5 has parents ['Voorkeur 3', 'Voorkeur 4'].\n",
      "    Voorkeur 2 has parents ['Voorkeur 3', 'Voorkeur 5', 'Voorkeur 4'].\n",
      "    Voorkeur 1 has parents ['Voorkeur 5', 'Voorkeur 2', 'Voorkeur 4'].\n",
      "vwo :\n",
      "Constructed Bayesian network:\n",
      "    Voorkeur 3 has parents ['Voorkeur 4'].\n",
      "    Voorkeur 5 has parents ['Voorkeur 4'].\n",
      "    Voorkeur 2 has parents ['Voorkeur 4'].\n",
      "    Voorkeur 1 has parents ['Voorkeur 5'].\n",
      "vmbo-b/k :\n",
      "Warning: k is not properly computed!\n"
     ]
    }
   ],
   "source": [
    "k = 5\n",
    "for e in edu_types:\n",
    "    print(e, \":\")\n",
    "    subset = encoded_choices_df[encoded_choices_df['Basisschool advies'] == e]\n",
    "    chosen_cols = ['Voorkeur {}'.format(i) for i in range(1, k+1)]\n",
    "    first_choices_subset = subset[chosen_cols]\n",
    "\n",
    "    bn = greedy_bayes(first_choices_subset, k=0, epsilon=0.1 / 2, seed=0)\n",
    "    display_bayesian_network(bn)"
   ]
  },
  {
   "cell_type": "markdown",
   "metadata": {},
   "source": [
    "### Graphical comparison"
   ]
  },
  {
   "cell_type": "code",
   "execution_count": 6,
   "metadata": {},
   "outputs": [],
   "source": [
    "alpha_synthetic = pd.read_csv('synthetic_datasets/model_alpha_synthetic.csv')\n",
    "beta_synthetic = pd.read_csv('synthetic_datasets/model_beta_synthetic.csv')"
   ]
  },
  {
   "cell_type": "code",
   "execution_count": 7,
   "metadata": {},
   "outputs": [
    {
     "data": {
      "text/html": [
       "<div>\n",
       "<style scoped>\n",
       "    .dataframe tbody tr th:only-of-type {\n",
       "        vertical-align: middle;\n",
       "    }\n",
       "\n",
       "    .dataframe tbody tr th {\n",
       "        vertical-align: top;\n",
       "    }\n",
       "\n",
       "    .dataframe thead th {\n",
       "        text-align: right;\n",
       "    }\n",
       "</style>\n",
       "<table border=\"1\" class=\"dataframe\">\n",
       "  <thead>\n",
       "    <tr style=\"text-align: right;\">\n",
       "      <th></th>\n",
       "      <th>Basisschool advies</th>\n",
       "      <th>Voorkeur 1</th>\n",
       "      <th>Voorkeur 2</th>\n",
       "      <th>Voorkeur 3</th>\n",
       "      <th>Voorkeur 4</th>\n",
       "      <th>Voorkeur 5</th>\n",
       "      <th>Voorkeur 6</th>\n",
       "      <th>Voorkeur 7</th>\n",
       "      <th>Voorkeur 8</th>\n",
       "      <th>Voorkeur 9</th>\n",
       "      <th>...</th>\n",
       "      <th>Voorkeur 13</th>\n",
       "      <th>Voorkeur 14</th>\n",
       "      <th>Voorkeur 15</th>\n",
       "      <th>Voorkeur 16</th>\n",
       "      <th>Voorkeur 17</th>\n",
       "      <th>Voorkeur 18</th>\n",
       "      <th>Voorkeur 19</th>\n",
       "      <th>Voorkeur 20</th>\n",
       "      <th>Voorkeur 21</th>\n",
       "      <th>Voorkeur 22</th>\n",
       "    </tr>\n",
       "  </thead>\n",
       "  <tbody>\n",
       "    <tr>\n",
       "      <th>0</th>\n",
       "      <td>havo</td>\n",
       "      <td>68</td>\n",
       "      <td>99</td>\n",
       "      <td>81</td>\n",
       "      <td>102</td>\n",
       "      <td>20</td>\n",
       "      <td>132</td>\n",
       "      <td>137</td>\n",
       "      <td>42</td>\n",
       "      <td>30</td>\n",
       "      <td>...</td>\n",
       "      <td>181</td>\n",
       "      <td>181</td>\n",
       "      <td>181</td>\n",
       "      <td>181</td>\n",
       "      <td>181</td>\n",
       "      <td>181</td>\n",
       "      <td>181</td>\n",
       "      <td>181</td>\n",
       "      <td>181</td>\n",
       "      <td>181</td>\n",
       "    </tr>\n",
       "    <tr>\n",
       "      <th>1</th>\n",
       "      <td>havo</td>\n",
       "      <td>138</td>\n",
       "      <td>104</td>\n",
       "      <td>56</td>\n",
       "      <td>28</td>\n",
       "      <td>37</td>\n",
       "      <td>73</td>\n",
       "      <td>45</td>\n",
       "      <td>96</td>\n",
       "      <td>153</td>\n",
       "      <td>...</td>\n",
       "      <td>181</td>\n",
       "      <td>181</td>\n",
       "      <td>181</td>\n",
       "      <td>181</td>\n",
       "      <td>181</td>\n",
       "      <td>181</td>\n",
       "      <td>181</td>\n",
       "      <td>181</td>\n",
       "      <td>181</td>\n",
       "      <td>181</td>\n",
       "    </tr>\n",
       "    <tr>\n",
       "      <th>2</th>\n",
       "      <td>havo</td>\n",
       "      <td>30</td>\n",
       "      <td>20</td>\n",
       "      <td>13</td>\n",
       "      <td>127</td>\n",
       "      <td>137</td>\n",
       "      <td>5</td>\n",
       "      <td>40</td>\n",
       "      <td>109</td>\n",
       "      <td>139</td>\n",
       "      <td>...</td>\n",
       "      <td>181</td>\n",
       "      <td>181</td>\n",
       "      <td>181</td>\n",
       "      <td>181</td>\n",
       "      <td>181</td>\n",
       "      <td>181</td>\n",
       "      <td>181</td>\n",
       "      <td>181</td>\n",
       "      <td>181</td>\n",
       "      <td>181</td>\n",
       "    </tr>\n",
       "    <tr>\n",
       "      <th>3</th>\n",
       "      <td>havo</td>\n",
       "      <td>104</td>\n",
       "      <td>37</td>\n",
       "      <td>95</td>\n",
       "      <td>42</td>\n",
       "      <td>73</td>\n",
       "      <td>11</td>\n",
       "      <td>35</td>\n",
       "      <td>131</td>\n",
       "      <td>62</td>\n",
       "      <td>...</td>\n",
       "      <td>181</td>\n",
       "      <td>181</td>\n",
       "      <td>181</td>\n",
       "      <td>181</td>\n",
       "      <td>181</td>\n",
       "      <td>181</td>\n",
       "      <td>181</td>\n",
       "      <td>181</td>\n",
       "      <td>181</td>\n",
       "      <td>181</td>\n",
       "    </tr>\n",
       "    <tr>\n",
       "      <th>4</th>\n",
       "      <td>havo</td>\n",
       "      <td>129</td>\n",
       "      <td>11</td>\n",
       "      <td>162</td>\n",
       "      <td>40</td>\n",
       "      <td>45</td>\n",
       "      <td>113</td>\n",
       "      <td>151</td>\n",
       "      <td>2</td>\n",
       "      <td>135</td>\n",
       "      <td>...</td>\n",
       "      <td>181</td>\n",
       "      <td>181</td>\n",
       "      <td>181</td>\n",
       "      <td>181</td>\n",
       "      <td>181</td>\n",
       "      <td>181</td>\n",
       "      <td>181</td>\n",
       "      <td>181</td>\n",
       "      <td>181</td>\n",
       "      <td>181</td>\n",
       "    </tr>\n",
       "  </tbody>\n",
       "</table>\n",
       "<p>5 rows × 23 columns</p>\n",
       "</div>"
      ],
      "text/plain": [
       "  Basisschool advies  Voorkeur 1  Voorkeur 2  Voorkeur 3  Voorkeur 4  \\\n",
       "0               havo          68          99          81         102   \n",
       "1               havo         138         104          56          28   \n",
       "2               havo          30          20          13         127   \n",
       "3               havo         104          37          95          42   \n",
       "4               havo         129          11         162          40   \n",
       "\n",
       "   Voorkeur 5  Voorkeur 6  Voorkeur 7  Voorkeur 8  Voorkeur 9  ...  \\\n",
       "0          20         132         137          42          30  ...   \n",
       "1          37          73          45          96         153  ...   \n",
       "2         137           5          40         109         139  ...   \n",
       "3          73          11          35         131          62  ...   \n",
       "4          45         113         151           2         135  ...   \n",
       "\n",
       "   Voorkeur 13  Voorkeur 14  Voorkeur 15  Voorkeur 16  Voorkeur 17  \\\n",
       "0          181          181          181          181          181   \n",
       "1          181          181          181          181          181   \n",
       "2          181          181          181          181          181   \n",
       "3          181          181          181          181          181   \n",
       "4          181          181          181          181          181   \n",
       "\n",
       "   Voorkeur 18  Voorkeur 19  Voorkeur 20  Voorkeur 21  Voorkeur 22  \n",
       "0          181          181          181          181          181  \n",
       "1          181          181          181          181          181  \n",
       "2          181          181          181          181          181  \n",
       "3          181          181          181          181          181  \n",
       "4          181          181          181          181          181  \n",
       "\n",
       "[5 rows x 23 columns]"
      ]
     },
     "execution_count": 7,
     "metadata": {},
     "output_type": "execute_result"
    }
   ],
   "source": [
    "encoded_alpha_synthetic = encoding(alpha_synthetic, schools)\n",
    "encoded_alpha_synthetic.head()"
   ]
  },
  {
   "cell_type": "code",
   "execution_count": 8,
   "metadata": {},
   "outputs": [
    {
     "data": {
      "text/html": [
       "<div>\n",
       "<style scoped>\n",
       "    .dataframe tbody tr th:only-of-type {\n",
       "        vertical-align: middle;\n",
       "    }\n",
       "\n",
       "    .dataframe tbody tr th {\n",
       "        vertical-align: top;\n",
       "    }\n",
       "\n",
       "    .dataframe thead th {\n",
       "        text-align: right;\n",
       "    }\n",
       "</style>\n",
       "<table border=\"1\" class=\"dataframe\">\n",
       "  <thead>\n",
       "    <tr style=\"text-align: right;\">\n",
       "      <th></th>\n",
       "      <th>Basisschool advies</th>\n",
       "      <th>Voorkeur 1</th>\n",
       "      <th>Voorkeur 2</th>\n",
       "      <th>Voorkeur 3</th>\n",
       "      <th>Voorkeur 4</th>\n",
       "      <th>Voorkeur 5</th>\n",
       "      <th>Voorkeur 6</th>\n",
       "      <th>Voorkeur 7</th>\n",
       "      <th>Voorkeur 8</th>\n",
       "      <th>Voorkeur 9</th>\n",
       "      <th>...</th>\n",
       "      <th>Voorkeur 13</th>\n",
       "      <th>Voorkeur 14</th>\n",
       "      <th>Voorkeur 15</th>\n",
       "      <th>Voorkeur 16</th>\n",
       "      <th>Voorkeur 17</th>\n",
       "      <th>Voorkeur 18</th>\n",
       "      <th>Voorkeur 19</th>\n",
       "      <th>Voorkeur 20</th>\n",
       "      <th>Voorkeur 21</th>\n",
       "      <th>Voorkeur 22</th>\n",
       "    </tr>\n",
       "  </thead>\n",
       "  <tbody>\n",
       "    <tr>\n",
       "      <th>0</th>\n",
       "      <td>havo</td>\n",
       "      <td>37</td>\n",
       "      <td>20</td>\n",
       "      <td>113</td>\n",
       "      <td>52</td>\n",
       "      <td>81</td>\n",
       "      <td>127</td>\n",
       "      <td>42</td>\n",
       "      <td>180</td>\n",
       "      <td>46</td>\n",
       "      <td>...</td>\n",
       "      <td>181</td>\n",
       "      <td>181</td>\n",
       "      <td>181</td>\n",
       "      <td>181</td>\n",
       "      <td>181</td>\n",
       "      <td>181</td>\n",
       "      <td>181</td>\n",
       "      <td>181</td>\n",
       "      <td>181</td>\n",
       "      <td>181</td>\n",
       "    </tr>\n",
       "    <tr>\n",
       "      <th>1</th>\n",
       "      <td>havo</td>\n",
       "      <td>81</td>\n",
       "      <td>40</td>\n",
       "      <td>129</td>\n",
       "      <td>102</td>\n",
       "      <td>29</td>\n",
       "      <td>115</td>\n",
       "      <td>180</td>\n",
       "      <td>48</td>\n",
       "      <td>68</td>\n",
       "      <td>...</td>\n",
       "      <td>181</td>\n",
       "      <td>181</td>\n",
       "      <td>181</td>\n",
       "      <td>181</td>\n",
       "      <td>181</td>\n",
       "      <td>181</td>\n",
       "      <td>181</td>\n",
       "      <td>181</td>\n",
       "      <td>181</td>\n",
       "      <td>181</td>\n",
       "    </tr>\n",
       "    <tr>\n",
       "      <th>2</th>\n",
       "      <td>havo</td>\n",
       "      <td>121</td>\n",
       "      <td>138</td>\n",
       "      <td>137</td>\n",
       "      <td>45</td>\n",
       "      <td>44</td>\n",
       "      <td>88</td>\n",
       "      <td>110</td>\n",
       "      <td>22</td>\n",
       "      <td>99</td>\n",
       "      <td>...</td>\n",
       "      <td>181</td>\n",
       "      <td>181</td>\n",
       "      <td>181</td>\n",
       "      <td>181</td>\n",
       "      <td>181</td>\n",
       "      <td>181</td>\n",
       "      <td>181</td>\n",
       "      <td>181</td>\n",
       "      <td>181</td>\n",
       "      <td>181</td>\n",
       "    </tr>\n",
       "    <tr>\n",
       "      <th>3</th>\n",
       "      <td>havo</td>\n",
       "      <td>127</td>\n",
       "      <td>64</td>\n",
       "      <td>109</td>\n",
       "      <td>135</td>\n",
       "      <td>5</td>\n",
       "      <td>35</td>\n",
       "      <td>142</td>\n",
       "      <td>104</td>\n",
       "      <td>73</td>\n",
       "      <td>...</td>\n",
       "      <td>181</td>\n",
       "      <td>181</td>\n",
       "      <td>181</td>\n",
       "      <td>181</td>\n",
       "      <td>181</td>\n",
       "      <td>181</td>\n",
       "      <td>181</td>\n",
       "      <td>181</td>\n",
       "      <td>181</td>\n",
       "      <td>181</td>\n",
       "    </tr>\n",
       "    <tr>\n",
       "      <th>4</th>\n",
       "      <td>havo</td>\n",
       "      <td>104</td>\n",
       "      <td>99</td>\n",
       "      <td>126</td>\n",
       "      <td>135</td>\n",
       "      <td>142</td>\n",
       "      <td>87</td>\n",
       "      <td>30</td>\n",
       "      <td>7</td>\n",
       "      <td>72</td>\n",
       "      <td>...</td>\n",
       "      <td>181</td>\n",
       "      <td>181</td>\n",
       "      <td>181</td>\n",
       "      <td>181</td>\n",
       "      <td>181</td>\n",
       "      <td>181</td>\n",
       "      <td>181</td>\n",
       "      <td>181</td>\n",
       "      <td>181</td>\n",
       "      <td>181</td>\n",
       "    </tr>\n",
       "  </tbody>\n",
       "</table>\n",
       "<p>5 rows × 23 columns</p>\n",
       "</div>"
      ],
      "text/plain": [
       "  Basisschool advies  Voorkeur 1  Voorkeur 2  Voorkeur 3  Voorkeur 4  \\\n",
       "0               havo          37          20         113          52   \n",
       "1               havo          81          40         129         102   \n",
       "2               havo         121         138         137          45   \n",
       "3               havo         127          64         109         135   \n",
       "4               havo         104          99         126         135   \n",
       "\n",
       "   Voorkeur 5  Voorkeur 6  Voorkeur 7  Voorkeur 8  Voorkeur 9  ...  \\\n",
       "0          81         127          42         180          46  ...   \n",
       "1          29         115         180          48          68  ...   \n",
       "2          44          88         110          22          99  ...   \n",
       "3           5          35         142         104          73  ...   \n",
       "4         142          87          30           7          72  ...   \n",
       "\n",
       "   Voorkeur 13  Voorkeur 14  Voorkeur 15  Voorkeur 16  Voorkeur 17  \\\n",
       "0          181          181          181          181          181   \n",
       "1          181          181          181          181          181   \n",
       "2          181          181          181          181          181   \n",
       "3          181          181          181          181          181   \n",
       "4          181          181          181          181          181   \n",
       "\n",
       "   Voorkeur 18  Voorkeur 19  Voorkeur 20  Voorkeur 21  Voorkeur 22  \n",
       "0          181          181          181          181          181  \n",
       "1          181          181          181          181          181  \n",
       "2          181          181          181          181          181  \n",
       "3          181          181          181          181          181  \n",
       "4          181          181          181          181          181  \n",
       "\n",
       "[5 rows x 23 columns]"
      ]
     },
     "execution_count": 8,
     "metadata": {},
     "output_type": "execute_result"
    }
   ],
   "source": [
    "encoded_beta_synthetic = encoding(beta_synthetic, schools)\n",
    "encoded_beta_synthetic.head()"
   ]
  },
  {
   "cell_type": "code",
   "execution_count": null,
   "metadata": {},
   "outputs": [],
   "source": [
    "real_choice_col_bins = encoded_choices_df['Voorkeur 1'].value_counts().rename('real')\n",
    "alpha_synthetic_choice_col_bins = alpha_synthetic['Voorkeur 1'].value_counts().rename('alpha_synthetic')\n",
    "beta_synthetic_choice_col_bins = beta_synthetic['Voorkeur 1'].value_counts().rename('beta_synthetic')\n",
    "compare_choice_col_bins = pd.concat([real_choice_col_bins, alpha_synthetic_choice_col_bins, beta_synthetic_choice_col_bins], axis=1).astype(float)"
   ]
  },
  {
   "cell_type": "code",
   "execution_count": 29,
   "metadata": {},
   "outputs": [
    {
     "data": {
      "text/html": [
       "<div>\n",
       "<style scoped>\n",
       "    .dataframe tbody tr th:only-of-type {\n",
       "        vertical-align: middle;\n",
       "    }\n",
       "\n",
       "    .dataframe tbody tr th {\n",
       "        vertical-align: top;\n",
       "    }\n",
       "\n",
       "    .dataframe thead th {\n",
       "        text-align: right;\n",
       "    }\n",
       "</style>\n",
       "<table border=\"1\" class=\"dataframe\">\n",
       "  <thead>\n",
       "    <tr style=\"text-align: right;\">\n",
       "      <th></th>\n",
       "      <th>real</th>\n",
       "      <th>alpha_synthetic</th>\n",
       "      <th>beta_synthetic</th>\n",
       "    </tr>\n",
       "  </thead>\n",
       "  <tbody>\n",
       "    <tr>\n",
       "      <th>0</th>\n",
       "      <td>11.0</td>\n",
       "      <td>10.0</td>\n",
       "      <td>15.0</td>\n",
       "    </tr>\n",
       "    <tr>\n",
       "      <th>1</th>\n",
       "      <td>39.0</td>\n",
       "      <td>51.0</td>\n",
       "      <td>36.0</td>\n",
       "    </tr>\n",
       "    <tr>\n",
       "      <th>2</th>\n",
       "      <td>30.0</td>\n",
       "      <td>30.0</td>\n",
       "      <td>30.0</td>\n",
       "    </tr>\n",
       "    <tr>\n",
       "      <th>3</th>\n",
       "      <td>235.0</td>\n",
       "      <td>243.0</td>\n",
       "      <td>263.0</td>\n",
       "    </tr>\n",
       "    <tr>\n",
       "      <th>4</th>\n",
       "      <td>77.0</td>\n",
       "      <td>79.0</td>\n",
       "      <td>76.0</td>\n",
       "    </tr>\n",
       "  </tbody>\n",
       "</table>\n",
       "</div>"
      ],
      "text/plain": [
       "    real  alpha_synthetic  beta_synthetic\n",
       "0   11.0             10.0            15.0\n",
       "1   39.0             51.0            36.0\n",
       "2   30.0             30.0            30.0\n",
       "3  235.0            243.0           263.0\n",
       "4   77.0             79.0            76.0"
      ]
     },
     "execution_count": 29,
     "metadata": {},
     "output_type": "execute_result"
    }
   ],
   "source": [
    "compare_choice_col_bins.head()"
   ]
  },
  {
   "cell_type": "code",
   "execution_count": 33,
   "metadata": {},
   "outputs": [
    {
     "data": {
      "application/vnd.plotly.v1+json": {
       "config": {
        "plotlyServerURL": "https://plot.ly"
       },
       "data": [
        {
         "marker": {
          "color": "indianred"
         },
         "name": "Real",
         "type": "bar",
         "x": [
          0,
          1,
          2,
          3,
          4,
          5,
          6,
          7,
          8,
          9,
          10,
          11,
          12,
          13,
          14,
          15,
          16,
          17,
          18,
          19,
          20,
          21,
          22,
          23,
          24,
          25,
          26,
          27,
          28,
          29,
          30,
          31,
          32,
          33,
          34,
          35,
          36,
          37,
          38,
          39,
          40,
          41,
          42,
          43,
          44,
          45,
          46,
          47,
          48,
          49,
          50,
          51,
          52,
          53,
          54,
          55,
          56,
          57,
          58,
          59,
          60,
          61,
          62,
          63,
          64,
          65,
          66,
          67,
          68,
          69,
          70,
          71,
          75,
          76,
          77,
          78,
          79,
          80,
          81,
          82,
          83,
          84,
          85,
          86,
          87,
          88,
          89,
          90,
          92,
          93,
          94,
          95,
          96,
          97,
          98,
          99,
          100,
          101,
          102,
          103,
          104,
          105,
          106,
          107,
          108,
          109,
          110,
          111,
          112,
          113,
          114,
          115,
          116,
          117,
          118,
          119,
          120,
          121,
          122,
          123,
          124,
          125,
          126,
          127,
          128,
          129,
          131,
          132,
          133,
          134,
          135,
          136,
          137,
          138,
          139,
          143,
          180
         ],
         "y": [
          11,
          39,
          30,
          235,
          77,
          59,
          36,
          53,
          47,
          61,
          21,
          58,
          49,
          39,
          17,
          9,
          13,
          16,
          88,
          22,
          30,
          57,
          120,
          50,
          10,
          94,
          20,
          38,
          33,
          12,
          70,
          99,
          84,
          13,
          64,
          29,
          23,
          269,
          208,
          68,
          65,
          51,
          79,
          57,
          33,
          41,
          79,
          57,
          10,
          5,
          3,
          8,
          24,
          121,
          205,
          67,
          19,
          22,
          87,
          153,
          95,
          58,
          77,
          196,
          58,
          25,
          59,
          198,
          151,
          38,
          23,
          39,
          36,
          32,
          12,
          101,
          105,
          68,
          131,
          63,
          31,
          4,
          7,
          2,
          114,
          13,
          25,
          20,
          58,
          2,
          57,
          62,
          9,
          7,
          138,
          127,
          38,
          35,
          122,
          32,
          160,
          64,
          94,
          69,
          43,
          74,
          66,
          29,
          26,
          18,
          2,
          13,
          87,
          4,
          63,
          69,
          8,
          66,
          2,
          36,
          65,
          70,
          101,
          34,
          6,
          63,
          2,
          10,
          3,
          30,
          114,
          109,
          135,
          125,
          79,
          1,
          11
         ]
        },
        {
         "marker": {
          "color": "lightsalmon"
         },
         "name": "Alpha Synthetic",
         "type": "bar",
         "x": [
          0,
          1,
          2,
          3,
          4,
          5,
          6,
          7,
          8,
          9,
          10,
          11,
          12,
          13,
          14,
          15,
          16,
          17,
          18,
          19,
          20,
          21,
          22,
          23,
          24,
          25,
          26,
          27,
          28,
          29,
          30,
          31,
          32,
          33,
          34,
          35,
          36,
          37,
          38,
          39,
          40,
          41,
          42,
          43,
          44,
          45,
          46,
          47,
          48,
          49,
          50,
          51,
          52,
          53,
          54,
          55,
          56,
          57,
          58,
          59,
          60,
          61,
          62,
          63,
          64,
          65,
          66,
          67,
          68,
          69,
          70,
          71,
          75,
          76,
          77,
          78,
          79,
          80,
          81,
          82,
          83,
          84,
          85,
          86,
          87,
          88,
          89,
          90,
          92,
          93,
          94,
          95,
          96,
          97,
          98,
          99,
          100,
          101,
          102,
          103,
          104,
          105,
          106,
          107,
          108,
          109,
          110,
          111,
          112,
          113,
          114,
          115,
          116,
          117,
          118,
          119,
          120,
          121,
          122,
          123,
          124,
          125,
          126,
          127,
          128,
          129,
          131,
          132,
          133,
          134,
          135,
          136,
          137,
          138,
          139,
          143,
          180
         ],
         "y": [
          10,
          51,
          30,
          243,
          79,
          58,
          33,
          47,
          45,
          66,
          20,
          51,
          47,
          33,
          11,
          9,
          7,
          13,
          81,
          28,
          29,
          64,
          134,
          54,
          10,
          87,
          15,
          32,
          31,
          10,
          61,
          98,
          90,
          17,
          59,
          34,
          15,
          264,
          201,
          72,
          68,
          43,
          75,
          45,
          30,
          53,
          88,
          52,
          8,
          6,
          null,
          6,
          27,
          123,
          219,
          56,
          27,
          30,
          75,
          144,
          87,
          53,
          69,
          200,
          50,
          29,
          57,
          223,
          149,
          40,
          17,
          39,
          47,
          32,
          2,
          97,
          94,
          76,
          124,
          58,
          31,
          7,
          5,
          1,
          106,
          10,
          23,
          20,
          55,
          null,
          63,
          72,
          5,
          14,
          145,
          129,
          46,
          35,
          127,
          24,
          181,
          62,
          98,
          72,
          53,
          69,
          83,
          21,
          26,
          16,
          2,
          15,
          73,
          6,
          62,
          74,
          11,
          79,
          4,
          37,
          79,
          64,
          107,
          36,
          8,
          73,
          3,
          13,
          2,
          35,
          110,
          112,
          130,
          103,
          70,
          1,
          11
         ]
        },
        {
         "marker": {
          "color": "lightskyblue"
         },
         "name": "Beta Synthetic",
         "type": "bar",
         "x": [
          0,
          1,
          2,
          3,
          4,
          5,
          6,
          7,
          8,
          9,
          10,
          11,
          12,
          13,
          14,
          15,
          16,
          17,
          18,
          19,
          20,
          21,
          22,
          23,
          24,
          25,
          26,
          27,
          28,
          29,
          30,
          31,
          32,
          33,
          34,
          35,
          36,
          37,
          38,
          39,
          40,
          41,
          42,
          43,
          44,
          45,
          46,
          47,
          48,
          49,
          50,
          51,
          52,
          53,
          54,
          55,
          56,
          57,
          58,
          59,
          60,
          61,
          62,
          63,
          64,
          65,
          66,
          67,
          68,
          69,
          70,
          71,
          75,
          76,
          77,
          78,
          79,
          80,
          81,
          82,
          83,
          84,
          85,
          86,
          87,
          88,
          89,
          90,
          92,
          93,
          94,
          95,
          96,
          97,
          98,
          99,
          100,
          101,
          102,
          103,
          104,
          105,
          106,
          107,
          108,
          109,
          110,
          111,
          112,
          113,
          114,
          115,
          116,
          117,
          118,
          119,
          120,
          121,
          122,
          123,
          124,
          125,
          126,
          127,
          128,
          129,
          131,
          132,
          133,
          134,
          135,
          136,
          137,
          138,
          139,
          143,
          180
         ],
         "y": [
          15,
          36,
          30,
          263,
          76,
          64,
          43,
          45,
          47,
          68,
          24,
          56,
          50,
          31,
          17,
          9,
          14,
          24,
          102,
          16,
          34,
          43,
          112,
          45,
          14,
          91,
          23,
          41,
          28,
          16,
          79,
          97,
          90,
          11,
          70,
          19,
          20,
          304,
          204,
          61,
          51,
          48,
          71,
          50,
          23,
          48,
          83,
          68,
          15,
          4,
          1,
          8,
          26,
          117,
          193,
          58,
          13,
          19,
          89,
          138,
          99,
          57,
          62,
          197,
          54,
          24,
          55,
          195,
          143,
          49,
          17,
          40,
          39,
          30,
          7,
          113,
          97,
          71,
          125,
          68,
          27,
          3,
          7,
          2,
          114,
          12,
          33,
          21,
          56,
          3,
          56,
          58,
          12,
          3,
          134,
          116,
          47,
          24,
          134,
          35,
          153,
          69,
          86,
          69,
          44,
          76,
          67,
          40,
          32,
          21,
          4,
          13,
          88,
          5,
          58,
          84,
          11,
          70,
          6,
          33,
          70,
          70,
          94,
          36,
          5,
          76,
          1,
          16,
          4,
          31,
          111,
          101,
          131,
          124,
          75,
          1,
          7
         ]
        }
       ],
       "layout": {
        "barmode": "group",
        "template": {
         "data": {
          "bar": [
           {
            "error_x": {
             "color": "#2a3f5f"
            },
            "error_y": {
             "color": "#2a3f5f"
            },
            "marker": {
             "line": {
              "color": "#E5ECF6",
              "width": 0.5
             },
             "pattern": {
              "fillmode": "overlay",
              "size": 10,
              "solidity": 0.2
             }
            },
            "type": "bar"
           }
          ],
          "barpolar": [
           {
            "marker": {
             "line": {
              "color": "#E5ECF6",
              "width": 0.5
             },
             "pattern": {
              "fillmode": "overlay",
              "size": 10,
              "solidity": 0.2
             }
            },
            "type": "barpolar"
           }
          ],
          "carpet": [
           {
            "aaxis": {
             "endlinecolor": "#2a3f5f",
             "gridcolor": "white",
             "linecolor": "white",
             "minorgridcolor": "white",
             "startlinecolor": "#2a3f5f"
            },
            "baxis": {
             "endlinecolor": "#2a3f5f",
             "gridcolor": "white",
             "linecolor": "white",
             "minorgridcolor": "white",
             "startlinecolor": "#2a3f5f"
            },
            "type": "carpet"
           }
          ],
          "choropleth": [
           {
            "colorbar": {
             "outlinewidth": 0,
             "ticks": ""
            },
            "type": "choropleth"
           }
          ],
          "contour": [
           {
            "colorbar": {
             "outlinewidth": 0,
             "ticks": ""
            },
            "colorscale": [
             [
              0,
              "#0d0887"
             ],
             [
              0.1111111111111111,
              "#46039f"
             ],
             [
              0.2222222222222222,
              "#7201a8"
             ],
             [
              0.3333333333333333,
              "#9c179e"
             ],
             [
              0.4444444444444444,
              "#bd3786"
             ],
             [
              0.5555555555555556,
              "#d8576b"
             ],
             [
              0.6666666666666666,
              "#ed7953"
             ],
             [
              0.7777777777777778,
              "#fb9f3a"
             ],
             [
              0.8888888888888888,
              "#fdca26"
             ],
             [
              1,
              "#f0f921"
             ]
            ],
            "type": "contour"
           }
          ],
          "contourcarpet": [
           {
            "colorbar": {
             "outlinewidth": 0,
             "ticks": ""
            },
            "type": "contourcarpet"
           }
          ],
          "heatmap": [
           {
            "colorbar": {
             "outlinewidth": 0,
             "ticks": ""
            },
            "colorscale": [
             [
              0,
              "#0d0887"
             ],
             [
              0.1111111111111111,
              "#46039f"
             ],
             [
              0.2222222222222222,
              "#7201a8"
             ],
             [
              0.3333333333333333,
              "#9c179e"
             ],
             [
              0.4444444444444444,
              "#bd3786"
             ],
             [
              0.5555555555555556,
              "#d8576b"
             ],
             [
              0.6666666666666666,
              "#ed7953"
             ],
             [
              0.7777777777777778,
              "#fb9f3a"
             ],
             [
              0.8888888888888888,
              "#fdca26"
             ],
             [
              1,
              "#f0f921"
             ]
            ],
            "type": "heatmap"
           }
          ],
          "heatmapgl": [
           {
            "colorbar": {
             "outlinewidth": 0,
             "ticks": ""
            },
            "colorscale": [
             [
              0,
              "#0d0887"
             ],
             [
              0.1111111111111111,
              "#46039f"
             ],
             [
              0.2222222222222222,
              "#7201a8"
             ],
             [
              0.3333333333333333,
              "#9c179e"
             ],
             [
              0.4444444444444444,
              "#bd3786"
             ],
             [
              0.5555555555555556,
              "#d8576b"
             ],
             [
              0.6666666666666666,
              "#ed7953"
             ],
             [
              0.7777777777777778,
              "#fb9f3a"
             ],
             [
              0.8888888888888888,
              "#fdca26"
             ],
             [
              1,
              "#f0f921"
             ]
            ],
            "type": "heatmapgl"
           }
          ],
          "histogram": [
           {
            "marker": {
             "pattern": {
              "fillmode": "overlay",
              "size": 10,
              "solidity": 0.2
             }
            },
            "type": "histogram"
           }
          ],
          "histogram2d": [
           {
            "colorbar": {
             "outlinewidth": 0,
             "ticks": ""
            },
            "colorscale": [
             [
              0,
              "#0d0887"
             ],
             [
              0.1111111111111111,
              "#46039f"
             ],
             [
              0.2222222222222222,
              "#7201a8"
             ],
             [
              0.3333333333333333,
              "#9c179e"
             ],
             [
              0.4444444444444444,
              "#bd3786"
             ],
             [
              0.5555555555555556,
              "#d8576b"
             ],
             [
              0.6666666666666666,
              "#ed7953"
             ],
             [
              0.7777777777777778,
              "#fb9f3a"
             ],
             [
              0.8888888888888888,
              "#fdca26"
             ],
             [
              1,
              "#f0f921"
             ]
            ],
            "type": "histogram2d"
           }
          ],
          "histogram2dcontour": [
           {
            "colorbar": {
             "outlinewidth": 0,
             "ticks": ""
            },
            "colorscale": [
             [
              0,
              "#0d0887"
             ],
             [
              0.1111111111111111,
              "#46039f"
             ],
             [
              0.2222222222222222,
              "#7201a8"
             ],
             [
              0.3333333333333333,
              "#9c179e"
             ],
             [
              0.4444444444444444,
              "#bd3786"
             ],
             [
              0.5555555555555556,
              "#d8576b"
             ],
             [
              0.6666666666666666,
              "#ed7953"
             ],
             [
              0.7777777777777778,
              "#fb9f3a"
             ],
             [
              0.8888888888888888,
              "#fdca26"
             ],
             [
              1,
              "#f0f921"
             ]
            ],
            "type": "histogram2dcontour"
           }
          ],
          "mesh3d": [
           {
            "colorbar": {
             "outlinewidth": 0,
             "ticks": ""
            },
            "type": "mesh3d"
           }
          ],
          "parcoords": [
           {
            "line": {
             "colorbar": {
              "outlinewidth": 0,
              "ticks": ""
             }
            },
            "type": "parcoords"
           }
          ],
          "pie": [
           {
            "automargin": true,
            "type": "pie"
           }
          ],
          "scatter": [
           {
            "fillpattern": {
             "fillmode": "overlay",
             "size": 10,
             "solidity": 0.2
            },
            "type": "scatter"
           }
          ],
          "scatter3d": [
           {
            "line": {
             "colorbar": {
              "outlinewidth": 0,
              "ticks": ""
             }
            },
            "marker": {
             "colorbar": {
              "outlinewidth": 0,
              "ticks": ""
             }
            },
            "type": "scatter3d"
           }
          ],
          "scattercarpet": [
           {
            "marker": {
             "colorbar": {
              "outlinewidth": 0,
              "ticks": ""
             }
            },
            "type": "scattercarpet"
           }
          ],
          "scattergeo": [
           {
            "marker": {
             "colorbar": {
              "outlinewidth": 0,
              "ticks": ""
             }
            },
            "type": "scattergeo"
           }
          ],
          "scattergl": [
           {
            "marker": {
             "colorbar": {
              "outlinewidth": 0,
              "ticks": ""
             }
            },
            "type": "scattergl"
           }
          ],
          "scattermapbox": [
           {
            "marker": {
             "colorbar": {
              "outlinewidth": 0,
              "ticks": ""
             }
            },
            "type": "scattermapbox"
           }
          ],
          "scatterpolar": [
           {
            "marker": {
             "colorbar": {
              "outlinewidth": 0,
              "ticks": ""
             }
            },
            "type": "scatterpolar"
           }
          ],
          "scatterpolargl": [
           {
            "marker": {
             "colorbar": {
              "outlinewidth": 0,
              "ticks": ""
             }
            },
            "type": "scatterpolargl"
           }
          ],
          "scatterternary": [
           {
            "marker": {
             "colorbar": {
              "outlinewidth": 0,
              "ticks": ""
             }
            },
            "type": "scatterternary"
           }
          ],
          "surface": [
           {
            "colorbar": {
             "outlinewidth": 0,
             "ticks": ""
            },
            "colorscale": [
             [
              0,
              "#0d0887"
             ],
             [
              0.1111111111111111,
              "#46039f"
             ],
             [
              0.2222222222222222,
              "#7201a8"
             ],
             [
              0.3333333333333333,
              "#9c179e"
             ],
             [
              0.4444444444444444,
              "#bd3786"
             ],
             [
              0.5555555555555556,
              "#d8576b"
             ],
             [
              0.6666666666666666,
              "#ed7953"
             ],
             [
              0.7777777777777778,
              "#fb9f3a"
             ],
             [
              0.8888888888888888,
              "#fdca26"
             ],
             [
              1,
              "#f0f921"
             ]
            ],
            "type": "surface"
           }
          ],
          "table": [
           {
            "cells": {
             "fill": {
              "color": "#EBF0F8"
             },
             "line": {
              "color": "white"
             }
            },
            "header": {
             "fill": {
              "color": "#C8D4E3"
             },
             "line": {
              "color": "white"
             }
            },
            "type": "table"
           }
          ]
         },
         "layout": {
          "annotationdefaults": {
           "arrowcolor": "#2a3f5f",
           "arrowhead": 0,
           "arrowwidth": 1
          },
          "autotypenumbers": "strict",
          "coloraxis": {
           "colorbar": {
            "outlinewidth": 0,
            "ticks": ""
           }
          },
          "colorscale": {
           "diverging": [
            [
             0,
             "#8e0152"
            ],
            [
             0.1,
             "#c51b7d"
            ],
            [
             0.2,
             "#de77ae"
            ],
            [
             0.3,
             "#f1b6da"
            ],
            [
             0.4,
             "#fde0ef"
            ],
            [
             0.5,
             "#f7f7f7"
            ],
            [
             0.6,
             "#e6f5d0"
            ],
            [
             0.7,
             "#b8e186"
            ],
            [
             0.8,
             "#7fbc41"
            ],
            [
             0.9,
             "#4d9221"
            ],
            [
             1,
             "#276419"
            ]
           ],
           "sequential": [
            [
             0,
             "#0d0887"
            ],
            [
             0.1111111111111111,
             "#46039f"
            ],
            [
             0.2222222222222222,
             "#7201a8"
            ],
            [
             0.3333333333333333,
             "#9c179e"
            ],
            [
             0.4444444444444444,
             "#bd3786"
            ],
            [
             0.5555555555555556,
             "#d8576b"
            ],
            [
             0.6666666666666666,
             "#ed7953"
            ],
            [
             0.7777777777777778,
             "#fb9f3a"
            ],
            [
             0.8888888888888888,
             "#fdca26"
            ],
            [
             1,
             "#f0f921"
            ]
           ],
           "sequentialminus": [
            [
             0,
             "#0d0887"
            ],
            [
             0.1111111111111111,
             "#46039f"
            ],
            [
             0.2222222222222222,
             "#7201a8"
            ],
            [
             0.3333333333333333,
             "#9c179e"
            ],
            [
             0.4444444444444444,
             "#bd3786"
            ],
            [
             0.5555555555555556,
             "#d8576b"
            ],
            [
             0.6666666666666666,
             "#ed7953"
            ],
            [
             0.7777777777777778,
             "#fb9f3a"
            ],
            [
             0.8888888888888888,
             "#fdca26"
            ],
            [
             1,
             "#f0f921"
            ]
           ]
          },
          "colorway": [
           "#636efa",
           "#EF553B",
           "#00cc96",
           "#ab63fa",
           "#FFA15A",
           "#19d3f3",
           "#FF6692",
           "#B6E880",
           "#FF97FF",
           "#FECB52"
          ],
          "font": {
           "color": "#2a3f5f"
          },
          "geo": {
           "bgcolor": "white",
           "lakecolor": "white",
           "landcolor": "#E5ECF6",
           "showlakes": true,
           "showland": true,
           "subunitcolor": "white"
          },
          "hoverlabel": {
           "align": "left"
          },
          "hovermode": "closest",
          "mapbox": {
           "style": "light"
          },
          "paper_bgcolor": "white",
          "plot_bgcolor": "#E5ECF6",
          "polar": {
           "angularaxis": {
            "gridcolor": "white",
            "linecolor": "white",
            "ticks": ""
           },
           "bgcolor": "#E5ECF6",
           "radialaxis": {
            "gridcolor": "white",
            "linecolor": "white",
            "ticks": ""
           }
          },
          "scene": {
           "xaxis": {
            "backgroundcolor": "#E5ECF6",
            "gridcolor": "white",
            "gridwidth": 2,
            "linecolor": "white",
            "showbackground": true,
            "ticks": "",
            "zerolinecolor": "white"
           },
           "yaxis": {
            "backgroundcolor": "#E5ECF6",
            "gridcolor": "white",
            "gridwidth": 2,
            "linecolor": "white",
            "showbackground": true,
            "ticks": "",
            "zerolinecolor": "white"
           },
           "zaxis": {
            "backgroundcolor": "#E5ECF6",
            "gridcolor": "white",
            "gridwidth": 2,
            "linecolor": "white",
            "showbackground": true,
            "ticks": "",
            "zerolinecolor": "white"
           }
          },
          "shapedefaults": {
           "line": {
            "color": "#2a3f5f"
           }
          },
          "ternary": {
           "aaxis": {
            "gridcolor": "white",
            "linecolor": "white",
            "ticks": ""
           },
           "baxis": {
            "gridcolor": "white",
            "linecolor": "white",
            "ticks": ""
           },
           "bgcolor": "#E5ECF6",
           "caxis": {
            "gridcolor": "white",
            "linecolor": "white",
            "ticks": ""
           }
          },
          "title": {
           "x": 0.05
          },
          "xaxis": {
           "automargin": true,
           "gridcolor": "white",
           "linecolor": "white",
           "ticks": "",
           "title": {
            "standoff": 15
           },
           "zerolinecolor": "white",
           "zerolinewidth": 2
          },
          "yaxis": {
           "automargin": true,
           "gridcolor": "white",
           "linecolor": "white",
           "ticks": "",
           "title": {
            "standoff": 15
           },
           "zerolinecolor": "white",
           "zerolinewidth": 2
          }
         }
        }
       }
      }
     },
     "metadata": {},
     "output_type": "display_data"
    }
   ],
   "source": [
    "import plotly.graph_objects as go\n",
    "\n",
    "indices = compare_choice_col_bins.index\n",
    "\n",
    "fig = go.Figure()\n",
    "fig.add_trace(go.Bar(\n",
    "    x=indices,\n",
    "    y=compare_choice_col_bins.real,\n",
    "    name='Real',\n",
    "    marker_color='indianred'\n",
    "))\n",
    "fig.add_trace(go.Bar(\n",
    "    x=indices,\n",
    "    y=compare_choice_col_bins.alpha_synthetic,\n",
    "    name='Alpha Synthetic',\n",
    "    marker_color='lightsalmon'\n",
    "))\n",
    "fig.add_trace(go.Bar(\n",
    "    x=indices,\n",
    "    y=compare_choice_col_bins.beta_synthetic,\n",
    "    name='Beta Synthetic',\n",
    "    marker_color='lightskyblue'\n",
    "))\n",
    "\n",
    "# Here we modify the tickangle of the xaxis, resulting in rotated labels.\n",
    "fig.update_layout(barmode='group')\n",
    "fig.show()"
   ]
  }
 ],
 "metadata": {
  "kernelspec": {
   "display_name": "Python 3.8.3 ('base')",
   "language": "python",
   "name": "python3"
  },
  "language_info": {
   "codemirror_mode": {
    "name": "ipython",
    "version": 3
   },
   "file_extension": ".py",
   "mimetype": "text/x-python",
   "name": "python",
   "nbconvert_exporter": "python",
   "pygments_lexer": "ipython3",
   "version": "3.8.3"
  },
  "orig_nbformat": 4,
  "vscode": {
   "interpreter": {
    "hash": "fb204e1b07e5f73927a864141bea97df8ff49338103976afdc54ba1886ab9c9d"
   }
  }
 },
 "nbformat": 4,
 "nbformat_minor": 2
}
